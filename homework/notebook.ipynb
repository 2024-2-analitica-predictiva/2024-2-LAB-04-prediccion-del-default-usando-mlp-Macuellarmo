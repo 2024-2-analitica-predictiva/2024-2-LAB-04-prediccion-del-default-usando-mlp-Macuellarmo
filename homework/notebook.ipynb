{
 "cells": [
  {
   "cell_type": "code",
   "execution_count": 217,
   "metadata": {},
   "outputs": [],
   "source": [
    "import pandas as pd\n",
    "import numpy as np\n",
    "from sklearn.compose import ColumnTransformer\n",
    "from sklearn.pipeline import Pipeline\n",
    "from sklearn.decomposition import PCA\n",
    "from sklearn.preprocessing import OneHotEncoder, StandardScaler\n",
    "from sklearn.feature_selection import SelectKBest, f_classif\n",
    "from sklearn.svm import SVC\n",
    "from sklearn.model_selection import GridSearchCV\n",
    "from sklearn.metrics import balanced_accuracy_score, make_scorer\n",
    "import gzip\n",
    "import json\n",
    "import os\n",
    "import pickle\n",
    "from sklearn.metrics import precision_score, balanced_accuracy_score, recall_score, f1_score\n",
    "from sklearn.metrics import confusion_matrix\n",
    "from sklearn.neural_network import MLPClassifier\n",
    "\n"
   ]
  },
  {
   "cell_type": "code",
   "execution_count": 218,
   "metadata": {},
   "outputs": [],
   "source": [
    "#Paso 1\n",
    "\n",
    "#Cargamos los datos\n",
    "df_train = pd.read_csv(\n",
    "    \"../files/input/train_data.csv.zip\", \n",
    "    index_col=False, \n",
    "    compression=\"zip\",\n",
    "    )\n",
    "df_test = pd.read_csv(\n",
    "    \"../files/input/test_data.csv.zip\", \n",
    "    index_col=False, \n",
    "    compression=\"zip\",\n",
    "    )"
   ]
  },
  {
   "cell_type": "code",
   "execution_count": 219,
   "metadata": {},
   "outputs": [],
   "source": [
    "#Renombrar la columna \"default payment next month\" a \"default\"\n",
    "df_train = df_train.rename(columns={'default payment next month': 'default'})\n",
    "df_test = df_test.rename(columns={'default payment next month': 'default'})\n"
   ]
  },
  {
   "cell_type": "code",
   "execution_count": 220,
   "metadata": {},
   "outputs": [],
   "source": [
    "#Remover la columna \"ID\"\n",
    "df_train = df_train.drop(columns=['ID'])\n",
    "df_test = df_test.drop(columns=['ID'])"
   ]
  },
  {
   "cell_type": "code",
   "execution_count": 221,
   "metadata": {},
   "outputs": [],
   "source": [
    "#Eliminación de los registro de información no disponible\n",
    "df_train = df_train.dropna()\n",
    "df_train = df_train[df_train[\"EDUCATION\"] != 0]\n",
    "df_train = df_train[df_train[\"MARRIAGE\"] != 0]\n",
    "df_test = df_test.dropna()\n",
    "df_test = df_test[df_test[\"EDUCATION\"] != 0]\n",
    "df_test = df_test[df_test[\"MARRIAGE\"] != 0]"
   ]
  },
  {
   "cell_type": "code",
   "execution_count": 222,
   "metadata": {},
   "outputs": [],
   "source": [
    "#Agrupación de los valore de EDUCATION > 4 en la categoría \"others\"\n",
    "df_train.loc[df_train[\"EDUCATION\"] > 4, \"EDUCATION\"] = 4\n",
    "df_test.loc[df_test[\"EDUCATION\"] > 4, \"EDUCATION\"] = 4"
   ]
  },
  {
   "cell_type": "code",
   "execution_count": 223,
   "metadata": {},
   "outputs": [],
   "source": [
    "#Paso 2\n",
    "#Dividir los datasets en x_train, y_train, x_test, y_test\n",
    "x_train = df_train.drop(columns=[\"default\"])\n",
    "y_train = df_train[\"default\"]\n",
    "x_test = df_test.drop(columns=[\"default\"])\n",
    "y_test = df_test[\"default\"]"
   ]
  },
  {
   "cell_type": "code",
   "execution_count": 224,
   "metadata": {},
   "outputs": [
    {
     "name": "stdout",
     "output_type": "stream",
     "text": [
      "Pipeline de clasificación ajustado exitosamente\n"
     ]
    }
   ],
   "source": [
    "# Paso 3.\n",
    "# Cree un pipeline para el modelo de clasificación. Este pipeline debe\n",
    "# contener las siguientes capas:\n",
    "# - Transforma las variables categoricas usando el método\n",
    "#   one-hot-encoding.\n",
    "# - Descompone la matriz de entrada usando componentes principales.\n",
    "#   El pca usa todas las componentes.\n",
    "# - Escala la matriz de entrada al intervalo [0, 1].\n",
    "# - Selecciona las K columnas mas relevantes de la matrix de entrada.\n",
    "# - Ajusta una red neuronal tipo MLP.\n",
    "\n",
    "#Columnas categóricas \n",
    "categorical_features=[\"SEX\", \"EDUCATION\", \"MARRIAGE\"]\n",
    "numerical_features = num_columns = [col for col in x_train.columns if col not in categorical_features]\n",
    "\n",
    "#Preprocesador\n",
    "preprocessor = ColumnTransformer(\n",
    "    transformers=[\n",
    "        ('cat', OneHotEncoder(), categorical_features),\n",
    "        ('scaler', StandardScaler(with_mean=True, with_std=True), numerical_features),\n",
    "    ],\n",
    ")\n",
    "\n",
    "#Creamos el pipeline\n",
    "pipeline = Pipeline(\n",
    "    steps=[\n",
    "        (\"preprocessor\", preprocessor),\n",
    "        ('pca', PCA()),\n",
    "        ('feature_selection', SelectKBest(score_func=f_classif)),\n",
    "        (\"classifier\", MLPClassifier(max_iter=20000, random_state=17)),\n",
    "    ],\n",
    ")\n",
    "\n",
    "print(\"Pipeline de clasificación ajustado exitosamente\")"
   ]
  },
  {
   "cell_type": "code",
   "execution_count": 225,
   "metadata": {},
   "outputs": [
    {
     "name": "stdout",
     "output_type": "stream",
     "text": [
      "Pipeline(steps=[('preprocessor',\n",
      "                 ColumnTransformer(transformers=[('cat', OneHotEncoder(),\n",
      "                                                  ['SEX', 'EDUCATION',\n",
      "                                                   'MARRIAGE']),\n",
      "                                                 ('scaler', StandardScaler(),\n",
      "                                                  ['LIMIT_BAL', 'AGE', 'PAY_0',\n",
      "                                                   'PAY_2', 'PAY_3', 'PAY_4',\n",
      "                                                   'PAY_5', 'PAY_6',\n",
      "                                                   'BILL_AMT1', 'BILL_AMT2',\n",
      "                                                   'BILL_AMT3', 'BILL_AMT4',\n",
      "                                                   'BILL_AMT5', 'BILL_AMT6',\n",
      "                                                   'PAY_AMT1', 'PAY_AMT2',\n",
      "                                                   'PAY_AMT3', 'PAY_AMT4',\n",
      "                                                   'PAY_AMT5', 'PAY_AMT6'])])),\n",
      "                ('pca', PCA()), ('feature_selection', SelectKBest(k=20)),\n",
      "                ('classifier',\n",
      "                 MLPClassifier(alpha=0.27, hidden_layer_sizes=(50, 40, 60, 70),\n",
      "                               learning_rate_init=0.002, max_iter=20000,\n",
      "                               random_state=17))])\n"
     ]
    }
   ],
   "source": [
    "# Paso 4.\n",
    "# Optimice los hiperparametros del pipeline usando validación cruzada.\n",
    "# Use 10 splits para la validación cruzada. Use la función de precision\n",
    "# balanceada para medir la precisión del modelo.\n",
    "\n",
    "param_grid = {\n",
    "    'pca__n_components':[None],\n",
    "    'feature_selection__k':[20],\n",
    "    'classifier__hidden_layer_sizes': [(50, 40, 60, 70)],\n",
    "    'classifier__alpha' : [0.27],\n",
    "    'classifier__learning_rate_init': [0.002],\n",
    "}\n",
    "\n",
    "model=GridSearchCV(\n",
    "    pipeline,\n",
    "    param_grid,\n",
    "    cv=10,\n",
    "    scoring=\"balanced_accuracy\",\n",
    "    n_jobs=-1,\n",
    "    refit=True\n",
    "    )\n",
    "\n",
    "model.fit(x_train, y_train)\n",
    "\n",
    "best_pipeline = model.best_estimator_\n",
    "print(best_pipeline)"
   ]
  },
  {
   "cell_type": "code",
   "execution_count": 226,
   "metadata": {},
   "outputs": [],
   "source": [
    "# Paso 5.\n",
    "# Guarde el modelo (comprimido con gzip) como \"files/models/model.pkl.gz\".\n",
    "models_dir = '../files/models'\n",
    "os.makedirs(models_dir, exist_ok=True)\n",
    "\n",
    "#Nombre del archivo\n",
    "compressed_model_path = \"../files/models/model.pkl.gz\"\n",
    "\n",
    "with gzip.open(compressed_model_path, \"wb\") as file:\n",
    "    pickle.dump(model, file)"
   ]
  },
  {
   "cell_type": "code",
   "execution_count": 227,
   "metadata": {},
   "outputs": [],
   "source": [
    "# Paso 6.\n",
    "# Calcule las metricas de precision, precision balanceada, recall,\n",
    "# y f1-score para los conjuntos de entrenamiento y prueba.\n",
    "# Guardelas en el archivo files/output/metrics.json. Cada fila\n",
    "# del archivo es un diccionario con las metricas de un modelo.\n",
    "# Este diccionario tiene un campo para indicar si es el conjunto\n",
    "# de entrenamiento o prueba. \n",
    "\n",
    "def calculate_and_save_metrics(model, X_train, X_test, y_train, y_test):\n",
    "    #Prediciones\n",
    "    y_train_pred = model.predict(X_train)\n",
    "    y_test_pred = model.predict(X_test)\n",
    "\n",
    "    #Metricas para el entrenamiento\n",
    "    metrics_train = {\n",
    "        'type': 'metrics',\n",
    "        'dataset': 'train',\n",
    "        'precision': precision_score(y_train, y_train_pred, zero_division=0),\n",
    "        'balanced_accuracy': balanced_accuracy_score(y_train, y_train_pred),\n",
    "        'recall': recall_score(y_train, y_train_pred, zero_division=0),\n",
    "        'f1_score': f1_score(y_train, y_train_pred, zero_division=0)\n",
    "    }\n",
    "\n",
    "    #Metricas para las pruebas\n",
    "    metrics_test = {\n",
    "        'type': 'metrics',\n",
    "        'dataset': 'test',\n",
    "        'precision' : precision_score(y_test, y_test_pred, zero_division=0),\n",
    "        'balanced_accuracy' : balanced_accuracy_score(y_test, y_test_pred),\n",
    "        'recall' : recall_score(y_test, y_test_pred, zero_division=0),\n",
    "        'f1_score' : f1_score(y_test, y_test_pred, zero_division=0)\n",
    "    }\n",
    "\n",
    "    #Crear carpeta si no existe\n",
    "    output_dir = '../files/output'\n",
    "    os.makedirs(output_dir, exist_ok=True)\n",
    "\n",
    "    #Guardar las metricas en un archivo JSON\n",
    "    output_path = os.path.join(output_dir, 'metrics.json')\n",
    "    with open(output_path, 'w') as f: #w para comenzar con un archivo limpio\n",
    "        f.write(json.dumps(metrics_train) + '\\n')\n",
    "        f.write(json.dumps(metrics_test) + '\\n')\n",
    "\n",
    "    print(metrics_train)\n",
    "    print(metrics_test)\n"
   ]
  },
  {
   "cell_type": "code",
   "execution_count": 228,
   "metadata": {},
   "outputs": [
    {
     "name": "stdout",
     "output_type": "stream",
     "text": [
      "{'type': 'metrics', 'dataset': 'train', 'precision': 0.6921212121212121, 'balanced_accuracy': np.float64(0.6577919019057792), 'recall': 0.36253968253968255, 'f1_score': 0.47583333333333333}\n",
      "{'type': 'metrics', 'dataset': 'test', 'precision': 0.6842105263157895, 'balanced_accuracy': np.float64(0.664237433071303), 'recall': 0.3751311647429171, 'f1_score': 0.4845814977973568}\n"
     ]
    }
   ],
   "source": [
    "\n",
    "\n",
    "def calculate_and_save_confusion_matrices(model, X_train, X_test, y_train, y_test):\n",
    "    #Predicciones\n",
    "    y_train_pred = model.predict(X_train)\n",
    "    y_test_pred = model.predict(X_test)\n",
    "\n",
    "    #Calcular matrices de confusion\n",
    "    cm_train = confusion_matrix(y_train, y_train_pred)\n",
    "    cm_test = confusion_matrix(y_test, y_test_pred)\n",
    "\n",
    "    #Convertir las matrices de confision en formato json\n",
    "    def format_confussion_matrix(cm, dataset_type):\n",
    "        return {\n",
    "            'type': 'cm_matrix', \n",
    "            'dataset': dataset_type,\n",
    "            'true_0': {\n",
    "                'predicted_0': int(cm_train[0, 0]), \n",
    "                'predicted_1': int(cm_train[0, 1])\n",
    "            },\n",
    "            'true_1': {\n",
    "                'predicted_0': int(cm_train[1, 0]), \n",
    "                'predicted_1': int(cm_train[1, 1])\n",
    "            },\n",
    "        }\n",
    "    \n",
    "    metrics = [\n",
    "        format_confussion_matrix(cm_train, 'train'),\n",
    "        format_confussion_matrix(cm_test, 'test')\n",
    "    ]\n",
    "\n",
    "    #Guardar las matrices de confusión en el mismo archivo json\n",
    "    output_path = '../files/output/metrics.json'\n",
    "    with open(output_path, 'a') as f: #'a' para agregar después de las metricas\n",
    "        for metric in metrics:\n",
    "            f.write(json.dumps(metric) + '\\n')\n",
    "\n",
    "#Función principal para ejecutar todo\n",
    "def main(model, X_train, X_test, y_train, y_test):\n",
    "    #Crear el directorio de salida si no existe\n",
    "    os.makedirs('../files/output', exist_ok=True)\n",
    "\n",
    "    #Calcular y guardar las metricas\n",
    "    calculate_and_save_metrics(model, X_train, X_test, y_train, y_test)\n",
    "\n",
    "    #Calcular y guardar las matrices de confusión\n",
    "    calculate_and_save_confusion_matrices(model, X_train, X_test, y_train, y_test)\n",
    "\n",
    "#Ejemplo de uso\n",
    "main(model, x_train, x_test, y_train, y_test)\n",
    "\n"
   ]
  }
 ],
 "metadata": {
  "kernelspec": {
   "display_name": ".venv",
   "language": "python",
   "name": "python3"
  },
  "language_info": {
   "codemirror_mode": {
    "name": "ipython",
    "version": 3
   },
   "file_extension": ".py",
   "mimetype": "text/x-python",
   "name": "python",
   "nbconvert_exporter": "python",
   "pygments_lexer": "ipython3",
   "version": "3.10.11"
  }
 },
 "nbformat": 4,
 "nbformat_minor": 2
}
